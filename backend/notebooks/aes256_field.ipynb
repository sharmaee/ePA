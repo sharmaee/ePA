{
 "cells": [
  {
   "cell_type": "code",
   "execution_count": 1,
   "metadata": {},
   "outputs": [
    {
     "name": "stdout",
     "output_type": "stream",
     "text": [
      "working dir changed to project root\n",
      "django setup\n",
      "done\n"
     ]
    }
   ],
   "source": [
    "from notebook_utils import init_django\n",
    "init_django()"
   ]
  },
  {
   "cell_type": "code",
   "execution_count": 2,
   "metadata": {},
   "outputs": [],
   "source": [
    "from portal.models._common import AES256Field, encrypt_data, decrypt_data"
   ]
  },
  {
   "cell_type": "code",
   "execution_count": 3,
   "metadata": {},
   "outputs": [],
   "source": [
    "var = \"secretemail@example.com\""
   ]
  },
  {
   "cell_type": "code",
   "execution_count": 5,
   "metadata": {},
   "outputs": [
    {
     "name": "stderr",
     "output_type": "stream",
     "text": [
      "[autoreload of portal.models._common failed: Traceback (most recent call last):\n",
      "  File \"/Users/liusiko/.local/share/virtualenvs/backend-va6pYMPD/lib/python3.9/site-packages/IPython/extensions/autoreload.py\", line 276, in check\n",
      "    superreload(m, reload, self.old_objects)\n",
      "  File \"/Users/liusiko/.local/share/virtualenvs/backend-va6pYMPD/lib/python3.9/site-packages/IPython/extensions/autoreload.py\", line 500, in superreload\n",
      "    update_generic(old_obj, new_obj)\n",
      "  File \"/Users/liusiko/.local/share/virtualenvs/backend-va6pYMPD/lib/python3.9/site-packages/IPython/extensions/autoreload.py\", line 397, in update_generic\n",
      "    update(a, b)\n",
      "  File \"/Users/liusiko/.local/share/virtualenvs/backend-va6pYMPD/lib/python3.9/site-packages/IPython/extensions/autoreload.py\", line 365, in update_class\n",
      "    update_instances(old, new)\n",
      "  File \"/Users/liusiko/.local/share/virtualenvs/backend-va6pYMPD/lib/python3.9/site-packages/IPython/extensions/autoreload.py\", line 323, in update_instances\n",
      "    object.__setattr__(ref, \"__class__\", new)\n",
      "TypeError: can't apply this __setattr__ to AutoTableNameModel object\n",
      "]\n"
     ]
    },
    {
     "ename": "TypeError",
     "evalue": "can only concatenate str (not \"bytes\") to str",
     "output_type": "error",
     "traceback": [
      "\u001b[0;31m---------------------------------------------------------------------------\u001b[0m",
      "\u001b[0;31mTypeError\u001b[0m                                 Traceback (most recent call last)",
      "Cell \u001b[0;32mIn[5], line 1\u001b[0m\n\u001b[0;32m----> 1\u001b[0m enc \u001b[39m=\u001b[39m encrypt_data(var)\n\u001b[1;32m      2\u001b[0m enc\n",
      "File \u001b[0;32m~/Documents/LamarHealth/do-prior-auth/prior-auth/backend/portal/models/_common.py:68\u001b[0m, in \u001b[0;36mencrypt_data\u001b[0;34m(data)\u001b[0m\n\u001b[1;32m     67\u001b[0m \u001b[39mdef\u001b[39;00m \u001b[39mencrypt_data\u001b[39m(data):\n\u001b[0;32m---> 68\u001b[0m     data \u001b[39m=\u001b[39m pad(data,\u001b[39m16\u001b[39;49m)\n\u001b[1;32m     69\u001b[0m     cipher \u001b[39m=\u001b[39m AES\u001b[39m.\u001b[39mnew(AES_SECRET_KEY, AES\u001b[39m.\u001b[39mMODE_CBC, AES_IV)\n\u001b[1;32m     70\u001b[0m     \u001b[39mreturn\u001b[39;00m base64\u001b[39m.\u001b[39mb64encode(cipher\u001b[39m.\u001b[39mencrypt(data))\u001b[39m.\u001b[39mdecode()\n",
      "File \u001b[0;32m~/.local/share/virtualenvs/backend-va6pYMPD/lib/python3.9/site-packages/Crypto/Util/Padding.py:64\u001b[0m, in \u001b[0;36mpad\u001b[0;34m(data_to_pad, block_size, style)\u001b[0m\n\u001b[1;32m     62\u001b[0m \u001b[39melse\u001b[39;00m:\n\u001b[1;32m     63\u001b[0m     \u001b[39mraise\u001b[39;00m \u001b[39mValueError\u001b[39;00m(\u001b[39m\"\u001b[39m\u001b[39mUnknown padding style\u001b[39m\u001b[39m\"\u001b[39m)\n\u001b[0;32m---> 64\u001b[0m \u001b[39mreturn\u001b[39;00m data_to_pad \u001b[39m+\u001b[39;49m padding\n",
      "\u001b[0;31mTypeError\u001b[0m: can only concatenate str (not \"bytes\") to str"
     ]
    }
   ],
   "source": [
    "enc = encrypt_data(var)\n",
    "enc"
   ]
  }
 ],
 "metadata": {
  "kernelspec": {
   "display_name": "backend-va6pYMPD",
   "language": "python",
   "name": "python3"
  },
  "language_info": {
   "codemirror_mode": {
    "name": "ipython",
    "version": 3
   },
   "file_extension": ".py",
   "mimetype": "text/x-python",
   "name": "python",
   "nbconvert_exporter": "python",
   "pygments_lexer": "ipython3",
   "version": "3.9.13"
  },
  "orig_nbformat": 4
 },
 "nbformat": 4,
 "nbformat_minor": 2
}
