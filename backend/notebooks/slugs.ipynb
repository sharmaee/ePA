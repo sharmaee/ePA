{
 "cells": [
  {
   "cell_type": "code",
   "execution_count": 1,
   "metadata": {},
   "outputs": [
    {
     "name": "stdout",
     "output_type": "stream",
     "text": [
      "working dir changed to project root\n",
      "django setup\n"
     ]
    },
    {
     "name": "stdout",
     "output_type": "stream",
     "text": [
      "done\n"
     ]
    }
   ],
   "source": [
    "from notebook_utils import init_django\n",
    "init_django()"
   ]
  },
  {
   "cell_type": "code",
   "execution_count": 2,
   "metadata": {},
   "outputs": [],
   "source": [
    "from portal.models._common import generate_url_slug"
   ]
  },
  {
   "cell_type": "code",
   "execution_count": 3,
   "metadata": {},
   "outputs": [
    {
     "name": "stdout",
     "output_type": "stream",
     "text": [
      "eb337187d278d4a6\n",
      "57f93763ae7a7487\n",
      "25ed1fa2e0d986b9\n",
      "0638fa13545c05fe\n",
      "627b400a25c89ed6\n",
      "8c1b8c86018ec65e\n",
      "16ca8b78429d61b3\n",
      "859e8bb1c799417c\n",
      "f4ee0f341789b7cd\n",
      "87f74d50ba94ed4b\n"
     ]
    }
   ],
   "source": [
    "for i in range(10):\n",
    "    print(generate_url_slug())"
   ]
  }
 ],
 "metadata": {
  "kernelspec": {
   "display_name": "backend-va6pYMPD",
   "language": "python",
   "name": "python3"
  },
  "language_info": {
   "codemirror_mode": {
    "name": "ipython",
    "version": 3
   },
   "file_extension": ".py",
   "mimetype": "text/x-python",
   "name": "python",
   "nbconvert_exporter": "python",
   "pygments_lexer": "ipython3",
   "version": "3.9.13"
  },
  "orig_nbformat": 4
 },
 "nbformat": 4,
 "nbformat_minor": 2
}
